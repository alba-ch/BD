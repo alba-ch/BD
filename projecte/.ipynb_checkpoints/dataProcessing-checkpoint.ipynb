{
 "cells": [
  {
   "cell_type": "code",
   "execution_count": 1,
   "id": "70acc63b",
   "metadata": {},
   "outputs": [],
   "source": [
    "import pandas as pd\n",
    "import numpy as np"
   ]
  },
  {
   "cell_type": "markdown",
   "id": "48358b47",
   "metadata": {},
   "source": [
    "***Data processing***"
   ]
  },
  {
   "cell_type": "code",
   "execution_count": 30,
   "id": "577d4e56",
   "metadata": {},
   "outputs": [],
   "source": [
    "# Path to save data\n",
    "path = \"bd_data/\""
   ]
  },
  {
   "cell_type": "markdown",
   "id": "54945989",
   "metadata": {},
   "source": [
    "Data for table **Especie**"
   ]
  },
  {
   "cell_type": "code",
   "execution_count": 31,
   "id": "faf5acd7",
   "metadata": {},
   "outputs": [
    {
     "data": {
      "text/html": [
       "<div>\n",
       "<style scoped>\n",
       "    .dataframe tbody tr th:only-of-type {\n",
       "        vertical-align: middle;\n",
       "    }\n",
       "\n",
       "    .dataframe tbody tr th {\n",
       "        vertical-align: top;\n",
       "    }\n",
       "\n",
       "    .dataframe thead th {\n",
       "        text-align: right;\n",
       "    }\n",
       "</style>\n",
       "<table border=\"1\" class=\"dataframe\">\n",
       "  <thead>\n",
       "    <tr style=\"text-align: right;\">\n",
       "      <th></th>\n",
       "      <th>Species</th>\n",
       "      <th>Species Name</th>\n",
       "      <th>Scientific Name Authorship</th>\n",
       "      <th>Taxon Rank</th>\n",
       "      <th>Kingdom</th>\n",
       "      <th>Phylum</th>\n",
       "      <th>Class</th>\n",
       "      <th>Order</th>\n",
       "      <th>Family</th>\n",
       "      <th>Genus</th>\n",
       "      <th>Vernacular Name</th>\n",
       "      <th>Conservation</th>\n",
       "      <th>Invasive</th>\n",
       "    </tr>\n",
       "  </thead>\n",
       "  <tbody>\n",
       "    <tr>\n",
       "      <th>0</th>\n",
       "      <td>9687165</td>\n",
       "      <td>Motacilla alba</td>\n",
       "      <td>Linnaeus, 1758</td>\n",
       "      <td>species</td>\n",
       "      <td>Animalia</td>\n",
       "      <td>Chordata</td>\n",
       "      <td>Aves</td>\n",
       "      <td>Passeriformes</td>\n",
       "      <td>Motacillidae</td>\n",
       "      <td>Motacilla</td>\n",
       "      <td>White Wagtail</td>\n",
       "      <td>NaN</td>\n",
       "      <td>NaN</td>\n",
       "    </tr>\n",
       "    <tr>\n",
       "      <th>1</th>\n",
       "      <td>5231190</td>\n",
       "      <td>Passer domesticus</td>\n",
       "      <td>(Linnaeus, 1758)</td>\n",
       "      <td>species</td>\n",
       "      <td>Animalia</td>\n",
       "      <td>Chordata</td>\n",
       "      <td>Aves</td>\n",
       "      <td>Passeriformes</td>\n",
       "      <td>Passeridae</td>\n",
       "      <td>Passer</td>\n",
       "      <td>House Sparrow</td>\n",
       "      <td>NaN</td>\n",
       "      <td>NaN</td>\n",
       "    </tr>\n",
       "    <tr>\n",
       "      <th>2</th>\n",
       "      <td>5229490</td>\n",
       "      <td>Pica pica</td>\n",
       "      <td>(Linnaeus, 1758)</td>\n",
       "      <td>species</td>\n",
       "      <td>Animalia</td>\n",
       "      <td>Chordata</td>\n",
       "      <td>Aves</td>\n",
       "      <td>Passeriformes</td>\n",
       "      <td>Corvidae</td>\n",
       "      <td>Pica</td>\n",
       "      <td>Eurasian Magpie</td>\n",
       "      <td>NaN</td>\n",
       "      <td>NaN</td>\n",
       "    </tr>\n",
       "    <tr>\n",
       "      <th>3</th>\n",
       "      <td>2490719</td>\n",
       "      <td>Turdus merula</td>\n",
       "      <td>Linnaeus, 1758</td>\n",
       "      <td>species</td>\n",
       "      <td>Animalia</td>\n",
       "      <td>Chordata</td>\n",
       "      <td>Aves</td>\n",
       "      <td>Passeriformes</td>\n",
       "      <td>Turdidae</td>\n",
       "      <td>Turdus</td>\n",
       "      <td>Eurasian Blackbird</td>\n",
       "      <td>NaN</td>\n",
       "      <td>NaN</td>\n",
       "    </tr>\n",
       "    <tr>\n",
       "      <th>4</th>\n",
       "      <td>2495455</td>\n",
       "      <td>Columba palumbus</td>\n",
       "      <td>Linnaeus, 1758</td>\n",
       "      <td>species</td>\n",
       "      <td>Animalia</td>\n",
       "      <td>Chordata</td>\n",
       "      <td>Aves</td>\n",
       "      <td>Columbiformes</td>\n",
       "      <td>Columbidae</td>\n",
       "      <td>Columba</td>\n",
       "      <td>Common Wood-Pigeon</td>\n",
       "      <td>NaN</td>\n",
       "      <td>NaN</td>\n",
       "    </tr>\n",
       "  </tbody>\n",
       "</table>\n",
       "</div>"
      ],
      "text/plain": [
       "   Species       Species Name Scientific Name Authorship Taxon Rank   Kingdom  \\\n",
       "0  9687165     Motacilla alba             Linnaeus, 1758    species  Animalia   \n",
       "1  5231190  Passer domesticus           (Linnaeus, 1758)    species  Animalia   \n",
       "2  5229490          Pica pica           (Linnaeus, 1758)    species  Animalia   \n",
       "3  2490719      Turdus merula             Linnaeus, 1758    species  Animalia   \n",
       "4  2495455   Columba palumbus             Linnaeus, 1758    species  Animalia   \n",
       "\n",
       "     Phylum Class          Order        Family      Genus     Vernacular Name  \\\n",
       "0  Chordata  Aves  Passeriformes  Motacillidae  Motacilla       White Wagtail   \n",
       "1  Chordata  Aves  Passeriformes    Passeridae     Passer       House Sparrow   \n",
       "2  Chordata  Aves  Passeriformes      Corvidae       Pica     Eurasian Magpie   \n",
       "3  Chordata  Aves  Passeriformes      Turdidae     Turdus  Eurasian Blackbird   \n",
       "4  Chordata  Aves  Columbiformes    Columbidae    Columba  Common Wood-Pigeon   \n",
       "\n",
       "  Conservation Invasive  \n",
       "0          NaN      NaN  \n",
       "1          NaN      NaN  \n",
       "2          NaN      NaN  \n",
       "3          NaN      NaN  \n",
       "4          NaN      NaN  "
      ]
     },
     "execution_count": 31,
     "metadata": {},
     "output_type": "execute_result"
    }
   ],
   "source": [
    "dades1 = pd.read_csv(\"dades/records-2023-04-25.csv\")\n",
    "dades1.head()"
   ]
  },
  {
   "cell_type": "code",
   "execution_count": 32,
   "id": "ee0d6ff9",
   "metadata": {},
   "outputs": [
    {
     "name": "stdout",
     "output_type": "stream",
     "text": [
      "Species\n",
      "Species Name\n",
      "Scientific Name Authorship\n",
      "Taxon Rank\n",
      "Kingdom\n",
      "Phylum\n",
      "Class\n",
      "Order\n",
      "Family\n",
      "Genus\n",
      "Vernacular Name\n",
      "Conservation\n",
      "Invasive\n"
     ]
    }
   ],
   "source": [
    "for i in dades1.columns:\n",
    "    print(i)"
   ]
  },
  {
   "cell_type": "markdown",
   "id": "20e9c6aa",
   "metadata": {},
   "source": [
    "Common data to all rows"
   ]
  },
  {
   "cell_type": "code",
   "execution_count": 43,
   "id": "b957a135",
   "metadata": {},
   "outputs": [],
   "source": [
    "taxon_rank = dades1[\"Taxon Rank\"].unique()[0]\n",
    "kingdom =  dades1[\"Kingdom\"].unique()[0]\n",
    "phylum = dades1[\"Phylum\"].unique()[0]\n",
    "Class = dades1[\"Class\"].unique()[0]"
   ]
  },
  {
   "cell_type": "markdown",
   "id": "fc6711df",
   "metadata": {},
   "source": [
    "Filter data to use on DB's relation"
   ]
  },
  {
   "cell_type": "code",
   "execution_count": 44,
   "id": "f55065fd",
   "metadata": {},
   "outputs": [],
   "source": [
    "especie = dades1.copy()\n",
    "\n",
    "# Delete all unecessary data\n",
    "especie = especie.drop([\"Species\",\"Scientific Name Authorship\",\"Taxon Rank\", \"Kingdom\", \"Phylum\",\"Class\"], axis=1)"
   ]
  },
  {
   "cell_type": "markdown",
   "id": "08754a26",
   "metadata": {},
   "source": [
    "In colum conservation, change values for boolean\n",
    "\n",
    "    1 --> if it has value different taht Nan, which means is an specie in conservation\n",
    "    0 --> if value is NaN, which means the specie is not in conservation\n"
   ]
  },
  {
   "cell_type": "code",
   "execution_count": 45,
   "id": "4de62833",
   "metadata": {},
   "outputs": [],
   "source": [
    "especie[\"Conservation\"] = especie[\"Conservation\"].replace(np.nan, 0)\n",
    "especie[\"Conservation\"].values[especie[\"Conservation\"].values != 0] = 1"
   ]
  },
  {
   "cell_type": "code",
   "execution_count": 46,
   "id": "d566cf58",
   "metadata": {},
   "outputs": [
    {
     "data": {
      "text/plain": [
       "array([0, 1], dtype=object)"
      ]
     },
     "execution_count": 46,
     "metadata": {},
     "output_type": "execute_result"
    }
   ],
   "source": [
    "especie[\"Conservation\"].unique()"
   ]
  },
  {
   "cell_type": "markdown",
   "id": "65ce3038",
   "metadata": {},
   "source": [
    "In colum invasive, change values for boolean\n",
    "\n",
    "    1 --> if it has value different taht Nan, which means is an specie in invasive\n",
    "    0 --> if value is NaN, which means the specie is not in invasive\n"
   ]
  },
  {
   "cell_type": "code",
   "execution_count": 47,
   "id": "d88ddbbe",
   "metadata": {},
   "outputs": [],
   "source": [
    "especie[\"Invasive\"] = especie[\"Invasive\"].replace(np.nan, 0)\n",
    "especie[\"Invasive\"].values[especie[\"Invasive\"].values != 0] = 1"
   ]
  },
  {
   "cell_type": "code",
   "execution_count": 48,
   "id": "2567105e",
   "metadata": {},
   "outputs": [
    {
     "data": {
      "text/plain": [
       "array([0, 1], dtype=object)"
      ]
     },
     "execution_count": 48,
     "metadata": {},
     "output_type": "execute_result"
    }
   ],
   "source": [
    "especie[\"Invasive\"].unique()"
   ]
  },
  {
   "cell_type": "code",
   "execution_count": 49,
   "id": "029fbc7e",
   "metadata": {},
   "outputs": [
    {
     "data": {
      "text/html": [
       "<div>\n",
       "<style scoped>\n",
       "    .dataframe tbody tr th:only-of-type {\n",
       "        vertical-align: middle;\n",
       "    }\n",
       "\n",
       "    .dataframe tbody tr th {\n",
       "        vertical-align: top;\n",
       "    }\n",
       "\n",
       "    .dataframe thead th {\n",
       "        text-align: right;\n",
       "    }\n",
       "</style>\n",
       "<table border=\"1\" class=\"dataframe\">\n",
       "  <thead>\n",
       "    <tr style=\"text-align: right;\">\n",
       "      <th></th>\n",
       "      <th>Species Name</th>\n",
       "      <th>Order</th>\n",
       "      <th>Family</th>\n",
       "      <th>Genus</th>\n",
       "      <th>Vernacular Name</th>\n",
       "      <th>Conservation</th>\n",
       "      <th>Invasive</th>\n",
       "    </tr>\n",
       "  </thead>\n",
       "  <tbody>\n",
       "    <tr>\n",
       "      <th>0</th>\n",
       "      <td>Motacilla alba</td>\n",
       "      <td>Passeriformes</td>\n",
       "      <td>Motacillidae</td>\n",
       "      <td>Motacilla</td>\n",
       "      <td>White Wagtail</td>\n",
       "      <td>0</td>\n",
       "      <td>0</td>\n",
       "    </tr>\n",
       "    <tr>\n",
       "      <th>1</th>\n",
       "      <td>Passer domesticus</td>\n",
       "      <td>Passeriformes</td>\n",
       "      <td>Passeridae</td>\n",
       "      <td>Passer</td>\n",
       "      <td>House Sparrow</td>\n",
       "      <td>0</td>\n",
       "      <td>0</td>\n",
       "    </tr>\n",
       "    <tr>\n",
       "      <th>2</th>\n",
       "      <td>Pica pica</td>\n",
       "      <td>Passeriformes</td>\n",
       "      <td>Corvidae</td>\n",
       "      <td>Pica</td>\n",
       "      <td>Eurasian Magpie</td>\n",
       "      <td>0</td>\n",
       "      <td>0</td>\n",
       "    </tr>\n",
       "    <tr>\n",
       "      <th>3</th>\n",
       "      <td>Turdus merula</td>\n",
       "      <td>Passeriformes</td>\n",
       "      <td>Turdidae</td>\n",
       "      <td>Turdus</td>\n",
       "      <td>Eurasian Blackbird</td>\n",
       "      <td>0</td>\n",
       "      <td>0</td>\n",
       "    </tr>\n",
       "    <tr>\n",
       "      <th>4</th>\n",
       "      <td>Columba palumbus</td>\n",
       "      <td>Columbiformes</td>\n",
       "      <td>Columbidae</td>\n",
       "      <td>Columba</td>\n",
       "      <td>Common Wood-Pigeon</td>\n",
       "      <td>0</td>\n",
       "      <td>0</td>\n",
       "    </tr>\n",
       "    <tr>\n",
       "      <th>5</th>\n",
       "      <td>Anas platyrhynchos</td>\n",
       "      <td>Anseriformes</td>\n",
       "      <td>Anatidae</td>\n",
       "      <td>Anas</td>\n",
       "      <td>Bunásuorsá</td>\n",
       "      <td>0</td>\n",
       "      <td>0</td>\n",
       "    </tr>\n",
       "    <tr>\n",
       "      <th>6</th>\n",
       "      <td>Motacilla cinerea</td>\n",
       "      <td>Passeriformes</td>\n",
       "      <td>Motacillidae</td>\n",
       "      <td>Motacilla</td>\n",
       "      <td>Gray Wagtail</td>\n",
       "      <td>0</td>\n",
       "      <td>0</td>\n",
       "    </tr>\n",
       "    <tr>\n",
       "      <th>7</th>\n",
       "      <td>Phoenicurus ochruros</td>\n",
       "      <td>Passeriformes</td>\n",
       "      <td>Muscicapidae</td>\n",
       "      <td>Phoenicurus</td>\n",
       "      <td>Black Redstart</td>\n",
       "      <td>0</td>\n",
       "      <td>0</td>\n",
       "    </tr>\n",
       "    <tr>\n",
       "      <th>8</th>\n",
       "      <td>Erithacus rubecula</td>\n",
       "      <td>Passeriformes</td>\n",
       "      <td>Muscicapidae</td>\n",
       "      <td>Erithacus</td>\n",
       "      <td>European Robin</td>\n",
       "      <td>1</td>\n",
       "      <td>0</td>\n",
       "    </tr>\n",
       "    <tr>\n",
       "      <th>9</th>\n",
       "      <td>Carduelis carduelis</td>\n",
       "      <td>Passeriformes</td>\n",
       "      <td>Fringillidae</td>\n",
       "      <td>Carduelis</td>\n",
       "      <td>European Goldfinch</td>\n",
       "      <td>0</td>\n",
       "      <td>0</td>\n",
       "    </tr>\n",
       "  </tbody>\n",
       "</table>\n",
       "</div>"
      ],
      "text/plain": [
       "           Species Name          Order        Family        Genus  \\\n",
       "0        Motacilla alba  Passeriformes  Motacillidae    Motacilla   \n",
       "1     Passer domesticus  Passeriformes    Passeridae       Passer   \n",
       "2             Pica pica  Passeriformes      Corvidae         Pica   \n",
       "3         Turdus merula  Passeriformes      Turdidae       Turdus   \n",
       "4      Columba palumbus  Columbiformes    Columbidae      Columba   \n",
       "5    Anas platyrhynchos   Anseriformes      Anatidae         Anas   \n",
       "6     Motacilla cinerea  Passeriformes  Motacillidae    Motacilla   \n",
       "7  Phoenicurus ochruros  Passeriformes  Muscicapidae  Phoenicurus   \n",
       "8    Erithacus rubecula  Passeriformes  Muscicapidae    Erithacus   \n",
       "9   Carduelis carduelis  Passeriformes  Fringillidae    Carduelis   \n",
       "\n",
       "      Vernacular Name Conservation Invasive  \n",
       "0       White Wagtail            0        0  \n",
       "1       House Sparrow            0        0  \n",
       "2     Eurasian Magpie            0        0  \n",
       "3  Eurasian Blackbird            0        0  \n",
       "4  Common Wood-Pigeon            0        0  \n",
       "5          Bunásuorsá            0        0  \n",
       "6        Gray Wagtail            0        0  \n",
       "7      Black Redstart            0        0  \n",
       "8      European Robin            1        0  \n",
       "9  European Goldfinch            0        0  "
      ]
     },
     "execution_count": 49,
     "metadata": {},
     "output_type": "execute_result"
    }
   ],
   "source": [
    "especie.head(10)"
   ]
  },
  {
   "cell_type": "markdown",
   "id": "5b699ff4",
   "metadata": {},
   "source": [
    "Rename columns so they are the same as in our DB model"
   ]
  },
  {
   "cell_type": "code",
   "execution_count": 50,
   "id": "e6a7c6f2",
   "metadata": {},
   "outputs": [],
   "source": [
    "especie = especie.rename(columns={\"Species Name\": \"nombre\", \"Order\" : \"orden\", \"Family\" : \"familia\",\n",
    "                        \"Genus\" : \"genus\", \"Vernacular Name\" : \"nombre_comun\", \"Conservation\" : \"conservacion\", \n",
    "                        \"Invasive\" : \"invasivo\"}, errors=\"raise\")\n",
    "especie.index.name = 'id_especie'"
   ]
  },
  {
   "cell_type": "markdown",
   "id": "3d67f7dc",
   "metadata": {},
   "source": [
    "Save processed table as csv"
   ]
  },
  {
   "cell_type": "code",
   "execution_count": 51,
   "id": "8a6b76d6",
   "metadata": {},
   "outputs": [
    {
     "ename": "PermissionError",
     "evalue": "[Errno 13] Permission denied: 'bd_data/especie.csv'",
     "output_type": "error",
     "traceback": [
      "\u001b[1;31m---------------------------------------------------------------------------\u001b[0m",
      "\u001b[1;31mPermissionError\u001b[0m                           Traceback (most recent call last)",
      "Input \u001b[1;32mIn [51]\u001b[0m, in \u001b[0;36m<cell line: 1>\u001b[1;34m()\u001b[0m\n\u001b[1;32m----> 1\u001b[0m \u001b[43mespecie\u001b[49m\u001b[38;5;241;43m.\u001b[39;49m\u001b[43mto_csv\u001b[49m\u001b[43m(\u001b[49m\u001b[43mpath\u001b[49m\u001b[43m \u001b[49m\u001b[38;5;241;43m+\u001b[39;49m\u001b[43m \u001b[49m\u001b[38;5;124;43m\"\u001b[39;49m\u001b[38;5;124;43mespecie.csv\u001b[39;49m\u001b[38;5;124;43m\"\u001b[39;49m\u001b[43m)\u001b[49m\n",
      "File \u001b[1;32m~\\anaconda3\\lib\\site-packages\\pandas\\core\\generic.py:3551\u001b[0m, in \u001b[0;36mNDFrame.to_csv\u001b[1;34m(self, path_or_buf, sep, na_rep, float_format, columns, header, index, index_label, mode, encoding, compression, quoting, quotechar, line_terminator, chunksize, date_format, doublequote, escapechar, decimal, errors, storage_options)\u001b[0m\n\u001b[0;32m   3540\u001b[0m df \u001b[38;5;241m=\u001b[39m \u001b[38;5;28mself\u001b[39m \u001b[38;5;28;01mif\u001b[39;00m \u001b[38;5;28misinstance\u001b[39m(\u001b[38;5;28mself\u001b[39m, ABCDataFrame) \u001b[38;5;28;01melse\u001b[39;00m \u001b[38;5;28mself\u001b[39m\u001b[38;5;241m.\u001b[39mto_frame()\n\u001b[0;32m   3542\u001b[0m formatter \u001b[38;5;241m=\u001b[39m DataFrameFormatter(\n\u001b[0;32m   3543\u001b[0m     frame\u001b[38;5;241m=\u001b[39mdf,\n\u001b[0;32m   3544\u001b[0m     header\u001b[38;5;241m=\u001b[39mheader,\n\u001b[1;32m   (...)\u001b[0m\n\u001b[0;32m   3548\u001b[0m     decimal\u001b[38;5;241m=\u001b[39mdecimal,\n\u001b[0;32m   3549\u001b[0m )\n\u001b[1;32m-> 3551\u001b[0m \u001b[38;5;28;01mreturn\u001b[39;00m \u001b[43mDataFrameRenderer\u001b[49m\u001b[43m(\u001b[49m\u001b[43mformatter\u001b[49m\u001b[43m)\u001b[49m\u001b[38;5;241;43m.\u001b[39;49m\u001b[43mto_csv\u001b[49m\u001b[43m(\u001b[49m\n\u001b[0;32m   3552\u001b[0m \u001b[43m    \u001b[49m\u001b[43mpath_or_buf\u001b[49m\u001b[43m,\u001b[49m\n\u001b[0;32m   3553\u001b[0m \u001b[43m    \u001b[49m\u001b[43mline_terminator\u001b[49m\u001b[38;5;241;43m=\u001b[39;49m\u001b[43mline_terminator\u001b[49m\u001b[43m,\u001b[49m\n\u001b[0;32m   3554\u001b[0m \u001b[43m    \u001b[49m\u001b[43msep\u001b[49m\u001b[38;5;241;43m=\u001b[39;49m\u001b[43msep\u001b[49m\u001b[43m,\u001b[49m\n\u001b[0;32m   3555\u001b[0m \u001b[43m    \u001b[49m\u001b[43mencoding\u001b[49m\u001b[38;5;241;43m=\u001b[39;49m\u001b[43mencoding\u001b[49m\u001b[43m,\u001b[49m\n\u001b[0;32m   3556\u001b[0m \u001b[43m    \u001b[49m\u001b[43merrors\u001b[49m\u001b[38;5;241;43m=\u001b[39;49m\u001b[43merrors\u001b[49m\u001b[43m,\u001b[49m\n\u001b[0;32m   3557\u001b[0m \u001b[43m    \u001b[49m\u001b[43mcompression\u001b[49m\u001b[38;5;241;43m=\u001b[39;49m\u001b[43mcompression\u001b[49m\u001b[43m,\u001b[49m\n\u001b[0;32m   3558\u001b[0m \u001b[43m    \u001b[49m\u001b[43mquoting\u001b[49m\u001b[38;5;241;43m=\u001b[39;49m\u001b[43mquoting\u001b[49m\u001b[43m,\u001b[49m\n\u001b[0;32m   3559\u001b[0m \u001b[43m    \u001b[49m\u001b[43mcolumns\u001b[49m\u001b[38;5;241;43m=\u001b[39;49m\u001b[43mcolumns\u001b[49m\u001b[43m,\u001b[49m\n\u001b[0;32m   3560\u001b[0m \u001b[43m    \u001b[49m\u001b[43mindex_label\u001b[49m\u001b[38;5;241;43m=\u001b[39;49m\u001b[43mindex_label\u001b[49m\u001b[43m,\u001b[49m\n\u001b[0;32m   3561\u001b[0m \u001b[43m    \u001b[49m\u001b[43mmode\u001b[49m\u001b[38;5;241;43m=\u001b[39;49m\u001b[43mmode\u001b[49m\u001b[43m,\u001b[49m\n\u001b[0;32m   3562\u001b[0m \u001b[43m    \u001b[49m\u001b[43mchunksize\u001b[49m\u001b[38;5;241;43m=\u001b[39;49m\u001b[43mchunksize\u001b[49m\u001b[43m,\u001b[49m\n\u001b[0;32m   3563\u001b[0m \u001b[43m    \u001b[49m\u001b[43mquotechar\u001b[49m\u001b[38;5;241;43m=\u001b[39;49m\u001b[43mquotechar\u001b[49m\u001b[43m,\u001b[49m\n\u001b[0;32m   3564\u001b[0m \u001b[43m    \u001b[49m\u001b[43mdate_format\u001b[49m\u001b[38;5;241;43m=\u001b[39;49m\u001b[43mdate_format\u001b[49m\u001b[43m,\u001b[49m\n\u001b[0;32m   3565\u001b[0m \u001b[43m    \u001b[49m\u001b[43mdoublequote\u001b[49m\u001b[38;5;241;43m=\u001b[39;49m\u001b[43mdoublequote\u001b[49m\u001b[43m,\u001b[49m\n\u001b[0;32m   3566\u001b[0m \u001b[43m    \u001b[49m\u001b[43mescapechar\u001b[49m\u001b[38;5;241;43m=\u001b[39;49m\u001b[43mescapechar\u001b[49m\u001b[43m,\u001b[49m\n\u001b[0;32m   3567\u001b[0m \u001b[43m    \u001b[49m\u001b[43mstorage_options\u001b[49m\u001b[38;5;241;43m=\u001b[39;49m\u001b[43mstorage_options\u001b[49m\u001b[43m,\u001b[49m\n\u001b[0;32m   3568\u001b[0m \u001b[43m\u001b[49m\u001b[43m)\u001b[49m\n",
      "File \u001b[1;32m~\\anaconda3\\lib\\site-packages\\pandas\\io\\formats\\format.py:1180\u001b[0m, in \u001b[0;36mDataFrameRenderer.to_csv\u001b[1;34m(self, path_or_buf, encoding, sep, columns, index_label, mode, compression, quoting, quotechar, line_terminator, chunksize, date_format, doublequote, escapechar, errors, storage_options)\u001b[0m\n\u001b[0;32m   1159\u001b[0m     created_buffer \u001b[38;5;241m=\u001b[39m \u001b[38;5;28;01mFalse\u001b[39;00m\n\u001b[0;32m   1161\u001b[0m csv_formatter \u001b[38;5;241m=\u001b[39m CSVFormatter(\n\u001b[0;32m   1162\u001b[0m     path_or_buf\u001b[38;5;241m=\u001b[39mpath_or_buf,\n\u001b[0;32m   1163\u001b[0m     line_terminator\u001b[38;5;241m=\u001b[39mline_terminator,\n\u001b[1;32m   (...)\u001b[0m\n\u001b[0;32m   1178\u001b[0m     formatter\u001b[38;5;241m=\u001b[39m\u001b[38;5;28mself\u001b[39m\u001b[38;5;241m.\u001b[39mfmt,\n\u001b[0;32m   1179\u001b[0m )\n\u001b[1;32m-> 1180\u001b[0m \u001b[43mcsv_formatter\u001b[49m\u001b[38;5;241;43m.\u001b[39;49m\u001b[43msave\u001b[49m\u001b[43m(\u001b[49m\u001b[43m)\u001b[49m\n\u001b[0;32m   1182\u001b[0m \u001b[38;5;28;01mif\u001b[39;00m created_buffer:\n\u001b[0;32m   1183\u001b[0m     \u001b[38;5;28;01massert\u001b[39;00m \u001b[38;5;28misinstance\u001b[39m(path_or_buf, StringIO)\n",
      "File \u001b[1;32m~\\anaconda3\\lib\\site-packages\\pandas\\io\\formats\\csvs.py:241\u001b[0m, in \u001b[0;36mCSVFormatter.save\u001b[1;34m(self)\u001b[0m\n\u001b[0;32m    237\u001b[0m \u001b[38;5;124;03m\"\"\"\u001b[39;00m\n\u001b[0;32m    238\u001b[0m \u001b[38;5;124;03mCreate the writer & save.\u001b[39;00m\n\u001b[0;32m    239\u001b[0m \u001b[38;5;124;03m\"\"\"\u001b[39;00m\n\u001b[0;32m    240\u001b[0m \u001b[38;5;66;03m# apply compression and byte/text conversion\u001b[39;00m\n\u001b[1;32m--> 241\u001b[0m \u001b[38;5;28;01mwith\u001b[39;00m \u001b[43mget_handle\u001b[49m\u001b[43m(\u001b[49m\n\u001b[0;32m    242\u001b[0m \u001b[43m    \u001b[49m\u001b[38;5;28;43mself\u001b[39;49m\u001b[38;5;241;43m.\u001b[39;49m\u001b[43mfilepath_or_buffer\u001b[49m\u001b[43m,\u001b[49m\n\u001b[0;32m    243\u001b[0m \u001b[43m    \u001b[49m\u001b[38;5;28;43mself\u001b[39;49m\u001b[38;5;241;43m.\u001b[39;49m\u001b[43mmode\u001b[49m\u001b[43m,\u001b[49m\n\u001b[0;32m    244\u001b[0m \u001b[43m    \u001b[49m\u001b[43mencoding\u001b[49m\u001b[38;5;241;43m=\u001b[39;49m\u001b[38;5;28;43mself\u001b[39;49m\u001b[38;5;241;43m.\u001b[39;49m\u001b[43mencoding\u001b[49m\u001b[43m,\u001b[49m\n\u001b[0;32m    245\u001b[0m \u001b[43m    \u001b[49m\u001b[43merrors\u001b[49m\u001b[38;5;241;43m=\u001b[39;49m\u001b[38;5;28;43mself\u001b[39;49m\u001b[38;5;241;43m.\u001b[39;49m\u001b[43merrors\u001b[49m\u001b[43m,\u001b[49m\n\u001b[0;32m    246\u001b[0m \u001b[43m    \u001b[49m\u001b[43mcompression\u001b[49m\u001b[38;5;241;43m=\u001b[39;49m\u001b[38;5;28;43mself\u001b[39;49m\u001b[38;5;241;43m.\u001b[39;49m\u001b[43mcompression\u001b[49m\u001b[43m,\u001b[49m\n\u001b[0;32m    247\u001b[0m \u001b[43m    \u001b[49m\u001b[43mstorage_options\u001b[49m\u001b[38;5;241;43m=\u001b[39;49m\u001b[38;5;28;43mself\u001b[39;49m\u001b[38;5;241;43m.\u001b[39;49m\u001b[43mstorage_options\u001b[49m\u001b[43m,\u001b[49m\n\u001b[0;32m    248\u001b[0m \u001b[43m\u001b[49m\u001b[43m)\u001b[49m \u001b[38;5;28;01mas\u001b[39;00m handles:\n\u001b[0;32m    249\u001b[0m \n\u001b[0;32m    250\u001b[0m     \u001b[38;5;66;03m# Note: self.encoding is irrelevant here\u001b[39;00m\n\u001b[0;32m    251\u001b[0m     \u001b[38;5;28mself\u001b[39m\u001b[38;5;241m.\u001b[39mwriter \u001b[38;5;241m=\u001b[39m csvlib\u001b[38;5;241m.\u001b[39mwriter(\n\u001b[0;32m    252\u001b[0m         handles\u001b[38;5;241m.\u001b[39mhandle,\n\u001b[0;32m    253\u001b[0m         lineterminator\u001b[38;5;241m=\u001b[39m\u001b[38;5;28mself\u001b[39m\u001b[38;5;241m.\u001b[39mline_terminator,\n\u001b[1;32m   (...)\u001b[0m\n\u001b[0;32m    258\u001b[0m         quotechar\u001b[38;5;241m=\u001b[39m\u001b[38;5;28mself\u001b[39m\u001b[38;5;241m.\u001b[39mquotechar,\n\u001b[0;32m    259\u001b[0m     )\n\u001b[0;32m    261\u001b[0m     \u001b[38;5;28mself\u001b[39m\u001b[38;5;241m.\u001b[39m_save()\n",
      "File \u001b[1;32m~\\anaconda3\\lib\\site-packages\\pandas\\io\\common.py:789\u001b[0m, in \u001b[0;36mget_handle\u001b[1;34m(path_or_buf, mode, encoding, compression, memory_map, is_text, errors, storage_options)\u001b[0m\n\u001b[0;32m    784\u001b[0m \u001b[38;5;28;01melif\u001b[39;00m \u001b[38;5;28misinstance\u001b[39m(handle, \u001b[38;5;28mstr\u001b[39m):\n\u001b[0;32m    785\u001b[0m     \u001b[38;5;66;03m# Check whether the filename is to be opened in binary mode.\u001b[39;00m\n\u001b[0;32m    786\u001b[0m     \u001b[38;5;66;03m# Binary mode does not support 'encoding' and 'newline'.\u001b[39;00m\n\u001b[0;32m    787\u001b[0m     \u001b[38;5;28;01mif\u001b[39;00m ioargs\u001b[38;5;241m.\u001b[39mencoding \u001b[38;5;129;01mand\u001b[39;00m \u001b[38;5;124m\"\u001b[39m\u001b[38;5;124mb\u001b[39m\u001b[38;5;124m\"\u001b[39m \u001b[38;5;129;01mnot\u001b[39;00m \u001b[38;5;129;01min\u001b[39;00m ioargs\u001b[38;5;241m.\u001b[39mmode:\n\u001b[0;32m    788\u001b[0m         \u001b[38;5;66;03m# Encoding\u001b[39;00m\n\u001b[1;32m--> 789\u001b[0m         handle \u001b[38;5;241m=\u001b[39m \u001b[38;5;28;43mopen\u001b[39;49m\u001b[43m(\u001b[49m\n\u001b[0;32m    790\u001b[0m \u001b[43m            \u001b[49m\u001b[43mhandle\u001b[49m\u001b[43m,\u001b[49m\n\u001b[0;32m    791\u001b[0m \u001b[43m            \u001b[49m\u001b[43mioargs\u001b[49m\u001b[38;5;241;43m.\u001b[39;49m\u001b[43mmode\u001b[49m\u001b[43m,\u001b[49m\n\u001b[0;32m    792\u001b[0m \u001b[43m            \u001b[49m\u001b[43mencoding\u001b[49m\u001b[38;5;241;43m=\u001b[39;49m\u001b[43mioargs\u001b[49m\u001b[38;5;241;43m.\u001b[39;49m\u001b[43mencoding\u001b[49m\u001b[43m,\u001b[49m\n\u001b[0;32m    793\u001b[0m \u001b[43m            \u001b[49m\u001b[43merrors\u001b[49m\u001b[38;5;241;43m=\u001b[39;49m\u001b[43merrors\u001b[49m\u001b[43m,\u001b[49m\n\u001b[0;32m    794\u001b[0m \u001b[43m            \u001b[49m\u001b[43mnewline\u001b[49m\u001b[38;5;241;43m=\u001b[39;49m\u001b[38;5;124;43m\"\u001b[39;49m\u001b[38;5;124;43m\"\u001b[39;49m\u001b[43m,\u001b[49m\n\u001b[0;32m    795\u001b[0m \u001b[43m        \u001b[49m\u001b[43m)\u001b[49m\n\u001b[0;32m    796\u001b[0m     \u001b[38;5;28;01melse\u001b[39;00m:\n\u001b[0;32m    797\u001b[0m         \u001b[38;5;66;03m# Binary mode\u001b[39;00m\n\u001b[0;32m    798\u001b[0m         handle \u001b[38;5;241m=\u001b[39m \u001b[38;5;28mopen\u001b[39m(handle, ioargs\u001b[38;5;241m.\u001b[39mmode)\n",
      "\u001b[1;31mPermissionError\u001b[0m: [Errno 13] Permission denied: 'bd_data/especie.csv'"
     ]
    }
   ],
   "source": [
    "especie.to_csv(path + \"especie.csv\")  "
   ]
  },
  {
   "cell_type": "code",
   "execution_count": null,
   "id": "27142a2e",
   "metadata": {},
   "outputs": [],
   "source": []
  },
  {
   "cell_type": "code",
   "execution_count": 67,
   "id": "12f7f342",
   "metadata": {},
   "outputs": [
    {
     "data": {
      "text/html": [
       "<div>\n",
       "<style scoped>\n",
       "    .dataframe tbody tr th:only-of-type {\n",
       "        vertical-align: middle;\n",
       "    }\n",
       "\n",
       "    .dataframe tbody tr th {\n",
       "        vertical-align: top;\n",
       "    }\n",
       "\n",
       "    .dataframe thead th {\n",
       "        text-align: right;\n",
       "    }\n",
       "</style>\n",
       "<table border=\"1\" class=\"dataframe\">\n",
       "  <thead>\n",
       "    <tr style=\"text-align: right;\">\n",
       "      <th></th>\n",
       "      <th>UID</th>\n",
       "      <th>Name</th>\n",
       "      <th>DOI</th>\n",
       "      <th>Citation</th>\n",
       "      <th>Rights</th>\n",
       "      <th>More Information</th>\n",
       "      <th>Data generalisations</th>\n",
       "      <th>Information withheld</th>\n",
       "      <th>Download limit</th>\n",
       "      <th>Number of Records in Download</th>\n",
       "    </tr>\n",
       "  </thead>\n",
       "  <tbody>\n",
       "    <tr>\n",
       "      <th>0</th>\n",
       "      <td>co255</td>\n",
       "      <td>Datos recogidos en el proyecto Biobserva</td>\n",
       "      <td>NaN</td>\n",
       "      <td>Registros proporcionados por Datos recogidos e...</td>\n",
       "      <td>NaN</td>\n",
       "      <td>Más información: https://colecciones.gbif.es/p...</td>\n",
       "      <td>NaN</td>\n",
       "      <td>NaN</td>\n",
       "      <td>NaN</td>\n",
       "      <td>101917</td>\n",
       "    </tr>\n",
       "    <tr>\n",
       "      <th>1</th>\n",
       "      <td>dp2</td>\n",
       "      <td>GBIF ES IPT</td>\n",
       "      <td>NaN</td>\n",
       "      <td>Registros proporcionados por GBIF ES IPT, acce...</td>\n",
       "      <td>NaN</td>\n",
       "      <td>Más información: https://colecciones.gbif.es/p...</td>\n",
       "      <td>NaN</td>\n",
       "      <td>NaN</td>\n",
       "      <td>NaN</td>\n",
       "      <td>101917</td>\n",
       "    </tr>\n",
       "    <tr>\n",
       "      <th>2</th>\n",
       "      <td>dr743</td>\n",
       "      <td>Field observations of birds from Agbar facilit...</td>\n",
       "      <td>doi:10.15470/uykaay</td>\n",
       "      <td>Rovira C (2022): Field observations of birds f...</td>\n",
       "      <td>Creative Commons Zero (CC0) To the extent poss...</td>\n",
       "      <td>Más información: https://colecciones.gbif.es/p...</td>\n",
       "      <td>NaN</td>\n",
       "      <td>NaN</td>\n",
       "      <td>NaN</td>\n",
       "      <td>101917</td>\n",
       "    </tr>\n",
       "    <tr>\n",
       "      <th>3</th>\n",
       "      <td>in109</td>\n",
       "      <td>AGBAR</td>\n",
       "      <td>NaN</td>\n",
       "      <td>Registros proporcionados por AGBAR, accedidos ...</td>\n",
       "      <td>NaN</td>\n",
       "      <td>Más información: https://colecciones.gbif.es/p...</td>\n",
       "      <td>NaN</td>\n",
       "      <td>NaN</td>\n",
       "      <td>NaN</td>\n",
       "      <td>101917</td>\n",
       "    </tr>\n",
       "  </tbody>\n",
       "</table>\n",
       "</div>"
      ],
      "text/plain": [
       "     UID                                               Name  \\\n",
       "0  co255           Datos recogidos en el proyecto Biobserva   \n",
       "1    dp2                                        GBIF ES IPT   \n",
       "2  dr743  Field observations of birds from Agbar facilit...   \n",
       "3  in109                                              AGBAR   \n",
       "\n",
       "                   DOI                                           Citation  \\\n",
       "0                  NaN  Registros proporcionados por Datos recogidos e...   \n",
       "1                  NaN  Registros proporcionados por GBIF ES IPT, acce...   \n",
       "2  doi:10.15470/uykaay  Rovira C (2022): Field observations of birds f...   \n",
       "3                  NaN  Registros proporcionados por AGBAR, accedidos ...   \n",
       "\n",
       "                                              Rights  \\\n",
       "0                                                NaN   \n",
       "1                                                NaN   \n",
       "2  Creative Commons Zero (CC0) To the extent poss...   \n",
       "3                                                NaN   \n",
       "\n",
       "                                    More Information  Data generalisations  \\\n",
       "0  Más información: https://colecciones.gbif.es/p...                   NaN   \n",
       "1  Más información: https://colecciones.gbif.es/p...                   NaN   \n",
       "2  Más información: https://colecciones.gbif.es/p...                   NaN   \n",
       "3  Más información: https://colecciones.gbif.es/p...                   NaN   \n",
       "\n",
       "   Information withheld  Download limit  Number of Records in Download  \n",
       "0                   NaN             NaN                         101917  \n",
       "1                   NaN             NaN                         101917  \n",
       "2                   NaN             NaN                         101917  \n",
       "3                   NaN             NaN                         101917  "
      ]
     },
     "execution_count": 67,
     "metadata": {},
     "output_type": "execute_result"
    }
   ],
   "source": [
    "dades2 = pd.read_csv(\"dades/records-2023-03-14/citation.csv\")\n",
    "dades2.head()"
   ]
  },
  {
   "cell_type": "code",
   "execution_count": null,
   "id": "7482be90",
   "metadata": {},
   "outputs": [],
   "source": [
    "for i in dades2.columns:\n",
    "    print(i)"
   ]
  },
  {
   "cell_type": "code",
   "execution_count": null,
   "id": "4eb4ddad",
   "metadata": {},
   "outputs": [],
   "source": [
    "dades3 = pd.read_csv(\"dades/records-2023-03-14/headings.csv\")\n",
    "dades3.head()"
   ]
  },
  {
   "cell_type": "code",
   "execution_count": null,
   "id": "d1120a59",
   "metadata": {},
   "outputs": [],
   "source": [
    "for i in dades3.columns:\n",
    "    print(i)"
   ]
  },
  {
   "cell_type": "code",
   "execution_count": null,
   "id": "2f4d5df6",
   "metadata": {},
   "outputs": [],
   "source": [
    "data4 = pd.read_csv(\"dades/records-2023-03-14/records-2023-03-14.csv\")\n",
    "data4.head()"
   ]
  },
  {
   "cell_type": "code",
   "execution_count": null,
   "id": "984a55a1",
   "metadata": {},
   "outputs": [],
   "source": [
    "for i in data4.columns:\n",
    "    print(i)"
   ]
  }
 ],
 "metadata": {
  "kernelspec": {
   "display_name": "Python 3 (ipykernel)",
   "language": "python",
   "name": "python3"
  },
  "language_info": {
   "codemirror_mode": {
    "name": "ipython",
    "version": 3
   },
   "file_extension": ".py",
   "mimetype": "text/x-python",
   "name": "python",
   "nbconvert_exporter": "python",
   "pygments_lexer": "ipython3",
   "version": "3.9.12"
  }
 },
 "nbformat": 4,
 "nbformat_minor": 5
}
